{
 "cells": [
  {
   "cell_type": "code",
   "execution_count": 1,
   "metadata": {},
   "outputs": [
    {
     "name": "stderr",
     "output_type": "stream",
     "text": [
      "Using TensorFlow backend.\n"
     ]
    },
    {
     "name": "stdout",
     "output_type": "stream",
     "text": [
      "[nltk_data] Downloading package stopwords to\n",
      "[nltk_data]     /home/renatapva/nltk_data...\n",
      "[nltk_data]   Package stopwords is already up-to-date!\n",
      "[nltk_data] Downloading package averaged_perceptron_tagger to\n",
      "[nltk_data]     /home/renatapva/nltk_data...\n",
      "[nltk_data]   Package averaged_perceptron_tagger is already up-to-\n",
      "[nltk_data]       date!\n",
      "[nltk_data] Downloading package punkt to /home/renatapva/nltk_data...\n",
      "[nltk_data]   Package punkt is already up-to-date!\n",
      "[nltk_data] Downloading package wordnet to\n",
      "[nltk_data]     /home/renatapva/nltk_data...\n",
      "[nltk_data]   Package wordnet is already up-to-date!\n",
      "[nltk_data] Downloading package sentiwordnet to\n",
      "[nltk_data]     /home/renatapva/nltk_data...\n",
      "[nltk_data]   Package sentiwordnet is already up-to-date!\n"
     ]
    }
   ],
   "source": [
    "import pandas as pd\n",
    "import numpy as np\n",
    "import nltk\n",
    "\n",
    "from nltk.stem import WordNetLemmatizer\n",
    "from sklearn.model_selection import train_test_split\n",
    "from sklearn.feature_extraction.text import CountVectorizer\n",
    "from keras.models import Sequential \n",
    "from keras.layers import Dense, Dropout, Embedding, LSTM, CuDNNLSTM, Flatten\n",
    "from nltk.corpus import stopwords \n",
    "from nltk.tokenize import word_tokenize\n",
    "from nltk.stem.snowball import SnowballStemmer\n",
    "from sklearn.feature_extraction.text import TfidfVectorizer\n",
    "from nltk import pos_tag, pos_tag_sents\n",
    "from nltk.corpus import wordnet as wn\n",
    "from nltk.corpus import sentiwordnet as swn\n",
    "\n",
    "nltk.download('stopwords')\n",
    "nltk.download('averaged_perceptron_tagger')\n",
    "nltk.download('punkt')\n",
    "nltk.download('wordnet')\n",
    "nltk.download('sentiwordnet')\n",
    "\n",
    "lemmatizer = WordNetLemmatizer()"
   ]
  },
  {
   "cell_type": "code",
   "execution_count": 2,
   "metadata": {},
   "outputs": [],
   "source": [
    "# import pre-processed files\n",
    "twitter = pd.read_csv(\"twitter_pre_processed.csv\");\n",
    "wiki = pd.read_csv(\"wiki_pre_processed.csv\");\n",
    "\n",
    "# merging datasets\n",
    "data = pd.concat([twitter, wiki]);\n",
    "\n",
    "# remove stop words\n",
    "stop_words = set(stopwords.words('english'))\n",
    "data['text'] = data['text'].apply(lambda x: ' '.join([word for word in x.split() if word not in (stop_words)]));\n",
    "\n",
    "# stemming\n",
    "stemmer = SnowballStemmer('english')\n",
    "data['text'] = data['text'].apply(stemmer.stem)\n",
    "\n",
    "# apply POS tags to DF\n",
    "textList = data['text'].tolist();\n",
    "tagged_texts = pos_tag_sents(map(word_tokenize, textList));\n",
    "data['POS'] = tagged_texts;\n",
    "\n",
    "# use sentiword to check positivity/negativity of sentences\n",
    "sentiment = 0.0;\n",
    "data['sentiment'] = 0;\n",
    "\n",
    "for index, row in data.iterrows():\n",
    "    sentiment = 0.0\n",
    "    for word, tag in row['POS']:\n",
    "        wnTag = None;\n",
    "        \n",
    "        # transform POS tags into sentiwordnet tags\n",
    "        if tag.startswith('J'):\n",
    "            wnTag = wn.ADJ;\n",
    "        elif tag.startswith('N'):\n",
    "            wnTag = wn.NOUN;\n",
    "        elif tag.startswith('R'):\n",
    "            wnTag = wn.ADV;\n",
    "        elif tag.startswith('V'):\n",
    "            wnTag = wn.VERB;\n",
    "        \n",
    "        if wnTag not in (wn.NOUN, wn.ADJ, wn.ADV, wn.VERB):\n",
    "            continue;\n",
    "            \n",
    "        lemma = lemmatizer.lemmatize(word, pos=wnTag)\n",
    "        if not lemma:\n",
    "            continue;\n",
    "            \n",
    "        synsets = wn.synsets(lemma, pos=wnTag)\n",
    "        if not synsets:\n",
    "            continue\n",
    "\n",
    "        synset = synsets[0]\n",
    "        swn_synset = swn.senti_synset(synset.name())\n",
    "        sentiment += swn_synset.pos_score() - swn_synset.neg_score()\n",
    "    \n",
    "    if(sentiment>=0):\n",
    "        data.loc[data.index==index, 'sentiment'] = 1\n",
    "    else:\n",
    "        data.loc[data.index==index, 'sentiment'] = 0\n",
    "        \n",
    "# separate train and test datasets\n",
    "y = data['class'];\n",
    "X = data[['text', 'sentiment']];\n",
    "X_train, X_test, y_train, y_test = train_test_split(X, y, test_size=0.2)\n",
    "\n",
    "# vectorizer\n",
    "vectorizer = CountVectorizer(analyzer = 'word', max_features = 1999)\n",
    "X_train_vec = vectorizer.fit_transform(list(X_train.text))\n",
    "X_test_vec = vectorizer.transform(list(X_test.text))\n",
    "\n",
    "X_train_sent = np.array(X_train.sentiment)\n",
    "X_train_sent = np.reshape(X_train_sent, (X_train_sent.shape[0], 1))\n",
    "X_train_vec_np = np.array(X_train_vec.todense())\n",
    "X_train_final = np.concatenate((X_train_vec_np, X_train_sent),axis=1)\n",
    "\n",
    "X_test_sent = np.array(X_test.sentiment)\n",
    "X_test_sent = np.reshape(X_test_sent, (X_test_sent.shape[0], 1))\n",
    "X_test_vec_np = np.array(X_test_vec.todense())\n",
    "X_test_final = np.concatenate((X_test_vec_np, X_test_sent),axis=1)\n",
    "\n",
    "# creating dictionary\n",
    "X_train_final = np.array(X_train_final)\n",
    "X_test_final = np.array(X_test_final)\n",
    "\n",
    "X_train_final = np.reshape(X_train_final, (X_train_final.shape[0], 1, X_train_final.shape[1]))\n",
    "X_test_final = np.reshape(X_test_final, (X_test_final.shape[0], 1, X_test_final.shape[1]))"
   ]
  },
  {
   "cell_type": "code",
   "execution_count": 3,
   "metadata": {},
   "outputs": [],
   "source": [
    "# define network architecture and compile \n",
    "model = Sequential()\n",
    "model.add(CuDNNLSTM(100, input_shape=(1,2000))) \n",
    "model.add(Dense(250, activation='relu')) \n",
    "model.add(Dropout(0.2)) \n",
    "model.add(Dense(1, activation='sigmoid'))\n",
    "model.compile(loss='binary_crossentropy', optimizer='adam', metrics=['accuracy']) "
   ]
  },
  {
   "cell_type": "code",
   "execution_count": 4,
   "metadata": {},
   "outputs": [
    {
     "name": "stdout",
     "output_type": "stream",
     "text": [
      "Train on 132817 samples, validate on 14758 samples\n",
      "Epoch 1/5\n",
      " - 21s - loss: 0.1882 - acc: 0.9360 - val_loss: 0.1757 - val_acc: 0.9423\n",
      "Epoch 2/5\n",
      " - 19s - loss: 0.1561 - acc: 0.9454 - val_loss: 0.1650 - val_acc: 0.9436\n",
      "Epoch 3/5\n",
      " - 19s - loss: 0.1387 - acc: 0.9510 - val_loss: 0.1671 - val_acc: 0.9444\n",
      "Epoch 4/5\n",
      " - 19s - loss: 0.1195 - acc: 0.9577 - val_loss: 0.1777 - val_acc: 0.9441\n",
      "Epoch 5/5\n",
      " - 19s - loss: 0.0988 - acc: 0.9647 - val_loss: 0.2025 - val_acc: 0.9413\n"
     ]
    }
   ],
   "source": [
    "# train model\n",
    "history = model.fit(X_train_final, y_train, epochs=5, verbose=2, validation_split=0.1)"
   ]
  },
  {
   "cell_type": "code",
   "execution_count": 5,
   "metadata": {},
   "outputs": [
    {
     "name": "stdout",
     "output_type": "stream",
     "text": [
      "36894/36894 [==============================] - 2s 55us/step\n",
      "[0.20805661295635394, 0.93944814875370541]\n"
     ]
    }
   ],
   "source": [
    "# check score\n",
    "score = model.evaluate(X_test_final, y_test)\n",
    "print(score)"
   ]
  },
  {
   "cell_type": "code",
   "execution_count": 7,
   "metadata": {},
   "outputs": [
    {
     "data": {
      "image/png": "[encoded data removed]",
      "text/plain": [
       "<Figure size 432x288 with 1 Axes>"
      ]
     },
     "metadata": {},
     "output_type": "display_data"
    }
   ],
   "source": [
    "import matplotlib.pyplot as plt\n",
    "plt.plot(history.history['loss'])\n",
    "plt.plot(history.history['val_loss'])\n",
    "plt.title('model train vs validation loss')\n",
    "plt.ylabel('loss')\n",
    "plt.xlabel('epoch')\n",
    "plt.legend(['train', 'validation'], loc='upper right')\n",
    "plt.show()"
   ]
  },
  {
   "cell_type": "code",
   "execution_count": 7,
   "metadata": {},
   "outputs": [
    {
     "name": "stdout",
     "output_type": "stream",
     "text": [
      "              precision    recall  f1-score   support\n",
      "\n",
      "         0.0       0.96      0.98      0.97     33522\n",
      "         1.0       0.72      0.56      0.63      3372\n",
      "\n",
      "   micro avg       0.94      0.94      0.94     36894\n",
      "   macro avg       0.84      0.77      0.80     36894\n",
      "weighted avg       0.93      0.94      0.94     36894\n",
      "\n"
     ]
    }
   ],
   "source": [
    "from sklearn.metrics import classification_report\n",
    "\n",
    "y_pred = model.predict(X_test_final)\n",
    "print(classification_report(y_test, y_pred.round()))"
   ]
  },
  {
   "cell_type": "code",
   "execution_count": null,
   "metadata": {},
   "outputs": [],
   "source": []
  }
 ],
 "metadata": {
  "kernelspec": {
   "display_name": "Python 3",
   "language": "python",
   "name": "python3"
  },
  "language_info": {
   "codemirror_mode": {
    "name": "ipython",
    "version": 3
   },
   "file_extension": ".py",
   "mimetype": "text/x-python",
   "name": "python",
   "nbconvert_exporter": "python",
   "pygments_lexer": "ipython3",
   "version": "3.6.5"
  }
 },
 "nbformat": 4,
 "nbformat_minor": 1
}
