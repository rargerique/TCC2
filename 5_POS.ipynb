{
 "cells": [
  {
   "cell_type": "code",
   "execution_count": 3,
   "metadata": {},
   "outputs": [
    {
     "name": "stdout",
     "output_type": "stream",
     "text": [
      "[nltk_data] Downloading package stopwords to\n",
      "[nltk_data]     /home/renatapva/nltk_data...\n",
      "[nltk_data]   Package stopwords is already up-to-date!\n",
      "[nltk_data] Downloading package averaged_perceptron_tagger to\n",
      "[nltk_data]     /home/renatapva/nltk_data...\n",
      "[nltk_data]   Package averaged_perceptron_tagger is already up-to-\n",
      "[nltk_data]       date!\n",
      "[nltk_data] Downloading package punkt to /home/renatapva/nltk_data...\n",
      "[nltk_data]   Package punkt is already up-to-date!\n",
      "[nltk_data] Downloading package wordnet to\n",
      "[nltk_data]     /home/renatapva/nltk_data...\n",
      "[nltk_data]   Package wordnet is already up-to-date!\n",
      "[nltk_data] Downloading package sentiwordnet to\n",
      "[nltk_data]     /home/renatapva/nltk_data...\n",
      "[nltk_data]   Package sentiwordnet is already up-to-date!\n"
     ]
    }
   ],
   "source": [
    "import pandas as pd\n",
    "import numpy as np\n",
    "import nltk\n",
    "\n",
    "from nltk.stem import WordNetLemmatizer\n",
    "from sklearn.model_selection import train_test_split\n",
    "from sklearn.feature_extraction.text import CountVectorizer\n",
    "from keras.models import Sequential \n",
    "from keras.layers import Dense, Dropout, Embedding, LSTM, CuDNNLSTM, Flatten\n",
    "from nltk.corpus import stopwords \n",
    "from nltk.tokenize import word_tokenize\n",
    "from nltk.stem.snowball import SnowballStemmer\n",
    "from sklearn.feature_extraction.text import TfidfVectorizer\n",
    "from nltk import pos_tag, pos_tag_sents\n",
    "from nltk.corpus import wordnet as wn\n",
    "from nltk.corpus import sentiwordnet as swn\n",
    "\n",
    "nltk.download('stopwords')\n",
    "nltk.download('averaged_perceptron_tagger')\n",
    "nltk.download('punkt')\n",
    "nltk.download('wordnet')\n",
    "nltk.download('sentiwordnet')\n",
    "\n",
    "lemmatizer = WordNetLemmatizer()"
   ]
  },
  {
   "cell_type": "code",
   "execution_count": 4,
   "metadata": {},
   "outputs": [],
   "source": [
    "# import pre-processed files\n",
    "twitter = pd.read_csv(\"twitter_pre_processed.csv\");\n",
    "wiki = pd.read_csv(\"wiki_pre_processed.csv\");\n",
    "\n",
    "# merging datasets\n",
    "data = pd.concat([twitter, wiki]);\n",
    "\n",
    "# remove stop words\n",
    "stop_words = set(stopwords.words('english'))\n",
    "data['text'] = data['text'].apply(lambda x: ' '.join([word for word in x.split() if word not in (stop_words)]));\n",
    "\n",
    "# stemming\n",
    "stemmer = SnowballStemmer('english')\n",
    "data['text'] = data['text'].apply(stemmer.stem)\n",
    "\n",
    "# apply POS tags to DF\n",
    "textList = data['text'].tolist();\n",
    "tagged_texts = pos_tag_sents(map(word_tokenize, textList));\n",
    "data['POS'] = tagged_texts;"
   ]
  },
  {
   "cell_type": "code",
   "execution_count": 5,
   "metadata": {},
   "outputs": [],
   "source": [
    "tags = []\n",
    "\n",
    "for pos in data.POS:\n",
    "    tag_list = [x[1] for x in pos]\n",
    "    tag_str = \" \".join(tag_list)\n",
    "    tags.append(tag_str)"
   ]
  },
  {
   "cell_type": "code",
   "execution_count": 6,
   "metadata": {},
   "outputs": [],
   "source": [
    "pos_vectorizer = TfidfVectorizer(max_features=2000)\n",
    "pos = pos_vectorizer.fit_transform(pd.Series(tags)).toarray()"
   ]
  },
  {
   "cell_type": "code",
   "execution_count": 7,
   "metadata": {},
   "outputs": [],
   "source": [
    "vectorizer = TfidfVectorizer(max_features=2000)\n",
    "texts = vectorizer.fit_transform(pd.Series(data.text)).toarray()"
   ]
  },
  {
   "cell_type": "code",
   "execution_count": 8,
   "metadata": {},
   "outputs": [],
   "source": [
    "X = np.concatenate([texts,pos],axis=1)"
   ]
  },
  {
   "cell_type": "code",
   "execution_count": 9,
   "metadata": {},
   "outputs": [],
   "source": [
    "# separate train and test datasets\n",
    "y = data['class'];\n",
    "X_train_final, X_test_final, y_train, y_test = train_test_split(X, y, test_size=0.2)\n",
    "\n",
    "# creating dictionary\n",
    "X_train_final = np.array(X_train_final)\n",
    "X_test_final = np.array(X_test_final)\n",
    "\n",
    "X_train_final = np.reshape(X_train_final, (X_train_final.shape[0], 1, X_train_final.shape[1]))\n",
    "X_test_final = np.reshape(X_test_final, (X_test_final.shape[0], 1, X_test_final.shape[1]))"
   ]
  },
  {
   "cell_type": "code",
   "execution_count": 10,
   "metadata": {},
   "outputs": [],
   "source": [
    "# define network architecture and compile \n",
    "model = Sequential()\n",
    "model.add(CuDNNLSTM(100, input_shape=(1,2034))) \n",
    "model.add(Dense(250, activation='relu')) \n",
    "model.add(Dropout(0.2)) \n",
    "model.add(Dense(1, activation='sigmoid'))\n",
    "model.compile(loss='binary_crossentropy', optimizer='adam', metrics=['accuracy']) "
   ]
  },
  {
   "cell_type": "code",
   "execution_count": 11,
   "metadata": {},
   "outputs": [
    {
     "name": "stdout",
     "output_type": "stream",
     "text": [
      "Train on 132817 samples, validate on 14758 samples\n",
      "Epoch 1/5\n",
      " - 25s - loss: 0.1893 - acc: 0.9344 - val_loss: 0.1693 - val_acc: 0.9404\n",
      "Epoch 2/5\n",
      " - 19s - loss: 0.1650 - acc: 0.9421 - val_loss: 0.1670 - val_acc: 0.9420\n",
      "Epoch 3/5\n",
      " - 19s - loss: 0.1558 - acc: 0.9450 - val_loss: 0.1653 - val_acc: 0.9431\n",
      "Epoch 4/5\n",
      " - 19s - loss: 0.1484 - acc: 0.9470 - val_loss: 0.1643 - val_acc: 0.9434\n",
      "Epoch 5/5\n",
      " - 19s - loss: 0.1418 - acc: 0.9489 - val_loss: 0.1710 - val_acc: 0.9413\n"
     ]
    }
   ],
   "source": [
    "# train model\n",
    "history = model.fit(X_train_final, y_train, epochs=5, verbose=2, validation_split=0.1)"
   ]
  },
  {
   "cell_type": "code",
   "execution_count": null,
   "metadata": {},
   "outputs": [],
   "source": [
    "# check score\n",
    "score = model.evaluate(X_test_final, y_test)\n",
    "print(score)"
   ]
  },
  {
   "cell_type": "code",
   "execution_count": null,
   "metadata": {},
   "outputs": [],
   "source": [
    "import matplotlib.pyplot as plt\n",
    "plt.plot(history.history['loss'])\n",
    "plt.plot(history.history['val_loss'])\n",
    "plt.title('model train vs validation loss')\n",
    "plt.ylabel('loss')\n",
    "plt.xlabel('epoch')\n",
    "plt.legend(['train', 'validation'], loc='upper right')\n",
    "plt.show()"
   ]
  },
  {
   "cell_type": "code",
   "execution_count": null,
   "metadata": {},
   "outputs": [],
   "source": [
    "from sklearn.metrics import classification_report\n",
    "\n",
    "y_pred = model.predict(X_test_final)\n",
    "print(classification_report(y_test, y_pred.round()))"
   ]
  }
 ],
 "metadata": {
  "kernelspec": {
   "display_name": "Python 3",
   "language": "python",
   "name": "python3"
  },
  "language_info": {
   "codemirror_mode": {
    "name": "ipython",
    "version": 3
   },
   "file_extension": ".py",
   "mimetype": "text/x-python",
   "name": "python",
   "nbconvert_exporter": "python",
   "pygments_lexer": "ipython3",
   "version": "3.6.5"
  }
 },
 "nbformat": 4,
 "nbformat_minor": 1
}
