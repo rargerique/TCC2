{
 "cells": [
  {
   "cell_type": "code",
   "execution_count": 1,
   "metadata": {},
   "outputs": [
    {
     "name": "stderr",
     "output_type": "stream",
     "text": [
      "Using TensorFlow backend.\n"
     ]
    },
    {
     "name": "stdout",
     "output_type": "stream",
     "text": [
      "[nltk_data] Downloading package stopwords to\n",
      "[nltk_data]     /home/renatapva/nltk_data...\n",
      "[nltk_data]   Package stopwords is already up-to-date!\n"
     ]
    },
    {
     "data": {
      "text/plain": [
       "True"
      ]
     },
     "execution_count": 1,
     "metadata": {},
     "output_type": "execute_result"
    }
   ],
   "source": [
    "import pandas as pd\n",
    "import numpy as np\n",
    "import nltk\n",
    "\n",
    "from sklearn.model_selection import train_test_split\n",
    "from sklearn.feature_extraction.text import CountVectorizer\n",
    "from keras.models import Sequential \n",
    "from keras.layers import Dense, Dropout, Embedding, LSTM, CuDNNLSTM\n",
    "from nltk.corpus import stopwords \n",
    "from nltk.tokenize import word_tokenize\n",
    "from nltk.stem.snowball import SnowballStemmer\n",
    "\n",
    "nltk.download('stopwords')"
   ]
  },
  {
   "cell_type": "code",
   "execution_count": 2,
   "metadata": {},
   "outputs": [
    {
     "name": "stdout",
     "output_type": "stream",
     "text": [
      "Training data count:  147575\n",
      "Test data count:  36894\n"
     ]
    }
   ],
   "source": [
    "# import pre-processed files\n",
    "twitter = pd.read_csv(\"twitter_pre_processed.csv\");\n",
    "wiki = pd.read_csv(\"wiki_pre_processed.csv\");\n",
    "\n",
    "# merging datasets\n",
    "data = pd.concat([twitter, wiki]);\n",
    "\n",
    "# remove stop words\n",
    "stop_words = set(stopwords.words('english'))\n",
    "data['text'] = data['text'].apply(lambda x: ' '.join([word for word in x.split() if word not in (stop_words)]));\n",
    "\n",
    "# stemming\n",
    "stemmer = SnowballStemmer('english')\n",
    "data['text'] = data['text'].apply(stemmer.stem)\n",
    "\n",
    "# separate train and test datasets\n",
    "y = data['class'];\n",
    "X = data['text'];\n",
    "X_train, X_test, y_train, y_test = train_test_split(X, y, test_size=0.2)\n",
    "\n",
    "print('Training data count: ', X_train.count())\n",
    "print('Test data count: ', X_test.count())\n",
    "\n",
    "# creating dictionary\n",
    "X_train = np.array(X_train)\n",
    "X_test = np.array(X_test)\n",
    "\n",
    "vectorizer = CountVectorizer(analyzer = 'word', max_features = 2000)\n",
    "X_train = vectorizer.fit_transform(list(X_train))\n",
    "X_test = vectorizer.transform(list(X_test))"
   ]
  },
  {
   "cell_type": "code",
   "execution_count": 3,
   "metadata": {},
   "outputs": [],
   "source": [
    "# define network architecture and compile \n",
    "model = Sequential() \n",
    "model.add(Embedding(2000, 50))\n",
    "model.add(Dropout(0.2)) \n",
    "model.add(CuDNNLSTM(50))\n",
    "model.add(Dense(250, activation='relu')) \n",
    "model.add(Dropout(0.2))\n",
    "model.add(Dense(1, activation='sigmoid'))\n",
    "model.compile(loss='binary_crossentropy', optimizer='adam', metrics=['accuracy']) "
   ]
  },
  {
   "cell_type": "code",
   "execution_count": null,
   "metadata": {},
   "outputs": [
    {
     "name": "stdout",
     "output_type": "stream",
     "text": [
      "Train on 132817 samples, validate on 14758 samples\n",
      "Epoch 1/5\n",
      "132817/132817 [==============================] - 405s 3ms/step - loss: 0.3075 - acc: 0.9090 - val_loss: 0.3102 - val_acc: 0.9059\n",
      "Epoch 2/5\n",
      "132817/132817 [==============================] - 399s 3ms/step - loss: 0.3009 - acc: 0.9091 - val_loss: 0.3022 - val_acc: 0.9059\n",
      "Epoch 3/5\n",
      "132817/132817 [==============================] - 399s 3ms/step - loss: 0.2983 - acc: 0.9091 - val_loss: 0.3004 - val_acc: 0.9059\n",
      "Epoch 4/5\n",
      "132817/132817 [==============================] - 399s 3ms/step - loss: 0.2976 - acc: 0.9091 - val_loss: 0.3029 - val_acc: 0.9059\n",
      "Epoch 5/5\n",
      "132817/132817 [==============================] - 398s 3ms/step - loss: 0.2971 - acc: 0.9091 - val_loss: 0.3010 - val_acc: 0.9059\n"
     ]
    }
   ],
   "source": [
    "# train model\n",
    "hist = model.fit(X_train, y_train, epochs=5, verbose=1, validation_split=0.1, batch_size=35)"
   ]
  },
  {
   "cell_type": "code",
   "execution_count": 5,
   "metadata": {},
   "outputs": [
    {
     "name": "stdout",
     "output_type": "stream",
     "text": [
      "36894/36894 [==============================] - 51s 1ms/step\n",
      "[0.29479814034100532, 0.90963300804093572]\n"
     ]
    }
   ],
   "source": [
    "# check score\n",
    "score = model.evaluate(X_test, y_test, batch_size=35)\n",
    "print(score)"
   ]
  },
  {
   "cell_type": "code",
   "execution_count": 6,
   "metadata": {},
   "outputs": [
    {
     "data": {
      "image/png": "[encoded data removed]",
      "text/plain": [
       "<Figure size 432x288 with 1 Axes>"
      ]
     },
     "metadata": {},
     "output_type": "display_data"
    }
   ],
   "source": [
    "import matplotlib.pyplot as plt\n",
    "plt.plot(hist.history['loss'])\n",
    "plt.plot(hist.history['val_loss'])\n",
    "plt.title('model train vs validation loss')\n",
    "plt.ylabel('loss')\n",
    "plt.xlabel('epoch')\n",
    "plt.legend(['train', 'validation'], loc='upper right')\n",
    "plt.show()"
   ]
  },
  {
   "cell_type": "code",
   "execution_count": 10,
   "metadata": {},
   "outputs": [
    {
     "name": "stdout",
     "output_type": "stream",
     "text": [
      "              precision    recall  f1-score   support\n",
      "\n",
      "         0.0       0.91      1.00      0.95     33560\n",
      "         1.0       0.00      0.00      0.00      3334\n",
      "\n",
      "   micro avg       0.91      0.91      0.91     36894\n",
      "   macro avg       0.45      0.50      0.48     36894\n",
      "weighted avg       0.83      0.91      0.87     36894\n",
      "\n"
     ]
    },
    {
     "name": "stderr",
     "output_type": "stream",
     "text": [
      "/jet/var/python/lib/python3.6/site-packages/sklearn/metrics/classification.py:1143: UndefinedMetricWarning: Precision and F-score are ill-defined and being set to 0.0 in labels with no predicted samples.\n",
      "  'precision', 'predicted', average, warn_for)\n"
     ]
    }
   ],
   "source": [
    "from sklearn.metrics import classification_report\n",
    "\n",
    "y_pred = model.predict(X_test)\n",
    "print(classification_report(y_test, y_pred.round()))"
   ]
  }
 ],
 "metadata": {
  "kernelspec": {
   "display_name": "Python 3",
   "language": "python",
   "name": "python3"
  },
  "language_info": {
   "codemirror_mode": {
    "name": "ipython",
    "version": 3
   },
   "file_extension": ".py",
   "mimetype": "text/x-python",
   "name": "python",
   "nbconvert_exporter": "python",
   "pygments_lexer": "ipython3",
   "version": "3.6.5"
  }
 },
 "nbformat": 4,
 "nbformat_minor": 1
}
