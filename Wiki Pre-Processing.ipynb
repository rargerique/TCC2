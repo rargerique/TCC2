{
 "cells": [
  {
   "cell_type": "code",
   "execution_count": 23,
   "metadata": {},
   "outputs": [],
   "source": [
    "import pandas as pd"
   ]
  },
  {
   "cell_type": "code",
   "execution_count": 24,
   "metadata": {},
   "outputs": [],
   "source": [
    "# import files\n",
    "wiki_data = pd.read_csv(\"toxicity_annotated_comments.tsv\", sep = '\\t', index_col = 0);\n",
    "wiki_annotations = pd.read_csv(\"toxicity_annotations.tsv\",  sep = '\\t');"
   ]
  },
  {
   "cell_type": "code",
   "execution_count": 25,
   "metadata": {},
   "outputs": [],
   "source": [
    "# remove unecessary columns\n",
    "del wiki_annotations['worker_id'];\n",
    "del wiki_annotations['toxicity_score'];\n",
    "del wiki_data['year'];\n",
    "del wiki_data['logged_in'];\n",
    "del wiki_data['ns'];\n",
    "del wiki_data['sample'];\n",
    "del wiki_data['split'];"
   ]
  },
  {
   "cell_type": "code",
   "execution_count": 26,
   "metadata": {},
   "outputs": [],
   "source": [
    "# grouping and creating dfs\n",
    "pd_wiki_annotations = pd.DataFrame(wiki_annotations.groupby('rev_id').mean());\n",
    "pd_wiki_data = pd.DataFrame(wiki_data);"
   ]
  },
  {
   "cell_type": "code",
   "execution_count": 27,
   "metadata": {},
   "outputs": [],
   "source": [
    "# joining the two files\n",
    "wiki_full = pd_wiki_data.join(pd_wiki_annotations, on='rev_id');"
   ]
  },
  {
   "cell_type": "code",
   "execution_count": 28,
   "metadata": {},
   "outputs": [],
   "source": [
    "# cleaning up\n",
    "wiki_full.comment = wiki_full.comment.str.replace(\"NEWLINE_TOKEN\", \"\");\n",
    "wiki_full.comment = wiki_full.comment.str.replace(r'(@[A-Za-z0-9_]+)|([^0-9A-Za-z \\t])|(\\w+:\\/\\/\\S+)|([!@#$?.,\\'])', \"\");\n",
    "wiki_full.comment = wiki_full.comment.str.lower();"
   ]
  },
  {
   "cell_type": "code",
   "execution_count": 29,
   "metadata": {},
   "outputs": [
    {
     "data": {
      "text/html": [
       "<div>\n",
       "<style scoped>\n",
       "    .dataframe tbody tr th:only-of-type {\n",
       "        vertical-align: middle;\n",
       "    }\n",
       "\n",
       "    .dataframe tbody tr th {\n",
       "        vertical-align: top;\n",
       "    }\n",
       "\n",
       "    .dataframe thead th {\n",
       "        text-align: right;\n",
       "    }\n",
       "</style>\n",
       "<table border=\"1\" class=\"dataframe\">\n",
       "  <thead>\n",
       "    <tr style=\"text-align: right;\">\n",
       "      <th></th>\n",
       "      <th>class</th>\n",
       "      <th>text</th>\n",
       "    </tr>\n",
       "    <tr>\n",
       "      <th>rev_id</th>\n",
       "      <th></th>\n",
       "      <th></th>\n",
       "    </tr>\n",
       "  </thead>\n",
       "  <tbody>\n",
       "    <tr>\n",
       "      <th>2232.0</th>\n",
       "      <td>0.1</td>\n",
       "      <td>thisone can make an analogy in mathematical te...</td>\n",
       "    </tr>\n",
       "    <tr>\n",
       "      <th>4216.0</th>\n",
       "      <td>0.0</td>\n",
       "      <td>clarification for you  and zundarks right i sh...</td>\n",
       "    </tr>\n",
       "    <tr>\n",
       "      <th>8953.0</th>\n",
       "      <td>0.0</td>\n",
       "      <td>elected or electoral jhk</td>\n",
       "    </tr>\n",
       "    <tr>\n",
       "      <th>26547.0</th>\n",
       "      <td>0.0</td>\n",
       "      <td>this is such a fun entry   devotchkai once had...</td>\n",
       "    </tr>\n",
       "    <tr>\n",
       "      <th>28959.0</th>\n",
       "      <td>0.2</td>\n",
       "      <td>please relate the ozone hole to increases in c...</td>\n",
       "    </tr>\n",
       "  </tbody>\n",
       "</table>\n",
       "</div>"
      ],
      "text/plain": [
       "         class                                               text\n",
       "rev_id                                                           \n",
       "2232.0     0.1  thisone can make an analogy in mathematical te...\n",
       "4216.0     0.0  clarification for you  and zundarks right i sh...\n",
       "8953.0     0.0                           elected or electoral jhk\n",
       "26547.0    0.0  this is such a fun entry   devotchkai once had...\n",
       "28959.0    0.2  please relate the ozone hole to increases in c..."
      ]
     },
     "execution_count": 29,
     "metadata": {},
     "output_type": "execute_result"
    }
   ],
   "source": [
    "# changing column names\n",
    "wiki_full['class'] = wiki_full['toxicity'];\n",
    "wiki_full['text'] = wiki_full['comment'];\n",
    "\n",
    "del wiki_full['toxicity'];\n",
    "del wiki_full['comment'];\n",
    "\n",
    "wiki_full.head()"
   ]
  },
  {
   "cell_type": "code",
   "execution_count": 31,
   "metadata": {},
   "outputs": [],
   "source": [
    "# rounding result class\n",
    "wiki_full = wiki_full.round({'class': 0});\n",
    "wiki_full.head();\n",
    "\n",
    "wiki_full[wiki_full['class'] > 0].head(5)"
   ]
  },
  {
   "cell_type": "code",
   "execution_count": 32,
   "metadata": {},
   "outputs": [],
   "source": [
    "# saving to file\n",
    "wiki_full.to_csv(\"wiki_pre_processed.csv\", index=False);"
   ]
  },
  {
   "cell_type": "code",
   "execution_count": null,
   "metadata": {},
   "outputs": [],
   "source": []
  }
 ],
 "metadata": {
  "kernelspec": {
   "display_name": "Python 3",
   "language": "python",
   "name": "python3"
  },
  "language_info": {
   "codemirror_mode": {
    "name": "ipython",
    "version": 3
   },
   "file_extension": ".py",
   "mimetype": "text/x-python",
   "name": "python",
   "nbconvert_exporter": "python",
   "pygments_lexer": "ipython3",
   "version": "3.6.5"
  }
 },
 "nbformat": 4,
 "nbformat_minor": 2
}
